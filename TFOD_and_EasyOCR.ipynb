{
  "nbformat": 4,
  "nbformat_minor": 0,
  "metadata": {
    "colab": {
      "name": "TFOD_and_EasyOCR.ipynb",
      "provenance": [],
      "authorship_tag": "ABX9TyOc/584QLxyTyJiDlG1sEas",
      "include_colab_link": true
    },
    "kernelspec": {
      "name": "python3",
      "display_name": "Python 3"
    },
    "language_info": {
      "name": "python"
    }
  },
  "cells": [
    {
      "cell_type": "markdown",
      "metadata": {
        "id": "view-in-github",
        "colab_type": "text"
      },
      "source": [
        "<a href=\"https://colab.research.google.com/github/Nnamaka/OCR_with_TFOD_and_EasyOCR/blob/main/TFOD_and_EasyOCR.ipynb\" target=\"_parent\"><img src=\"https://colab.research.google.com/assets/colab-badge.svg\" alt=\"Open In Colab\"/></a>"
      ]
    },
    {
      "cell_type": "markdown",
      "source": [
        "#Perform OCR on a selected ROI(Region Of Interest) custom document \n",
        "To achieve this, the task is divided into two major parts. Text Detection and Text recognition. For the Text Detection, I will use a model------ from the TFOD(Tensorflow object detection) model zoo, perform transfer learning on it and train the model to detect certain ROIs on the custom document. Now for the Text Recognition, I will use an OCR model EasyOCR. There are other great OCR models to use eg Tesseract, PaddleOCR etc. \n"
      ],
      "metadata": {
        "id": "SKmaWaMGNCWx"
      }
    },
    {
      "cell_type": "markdown",
      "source": [
        "###Creat our folder structure"
      ],
      "metadata": {
        "id": "6V8QI6MNSg-k"
      }
    },
    {
      "cell_type": "code",
      "execution_count": null,
      "metadata": {
        "id": "iJrWJu1KMxjg"
      },
      "outputs": [],
      "source": [
        "import os"
      ]
    },
    {
      "cell_type": "markdown",
      "source": [
        "Declaring and Assigning variable names."
      ],
      "metadata": {
        "id": "5kNU04yEyato"
      }
    },
    {
      "cell_type": "code",
      "source": [
        "CUSTOM_MODEL_NAME = 'my_ssd_mobnet' \n",
        "PRETRAINED_MODEL_NAME = 'ssd_mobilenet_v2_fpnlite_320x320_coco17_tpu-8'\n",
        "PRETRAINED_MODEL_URL = 'http://download.tensorflow.org/models/object_detection/tf2/20200711/ssd_mobilenet_v2_fpnlite_320x320_coco17_tpu-8.tar.gz'\n",
        "TF_RECORD_SCRIPT_NAME = 'generate_tfrecord.py'\n",
        "LABEL_MAP_NAME = 'label_map.pbtxt'"
      ],
      "metadata": {
        "id": "ZFqnFCjnSgiC"
      },
      "execution_count": null,
      "outputs": []
    },
    {
      "cell_type": "markdown",
      "source": [
        "Store paths in `path` dictionary."
      ],
      "metadata": {
        "id": "YlUBNGXSyqyK"
      }
    },
    {
      "cell_type": "code",
      "source": [
        "paths = {\n",
        "    'WORKSPACE_PATH': os.path.join('Tensorflow', 'workspace'),\n",
        "    'SCRIPTS_PATH': os.path.join('Tensorflow','scripts'),\n",
        "    'APIMODEL_PATH': os.path.join('Tensorflow','models'),\n",
        "    'ANNOTATION_PATH': os.path.join('Tensorflow', 'workspace','annotations'),\n",
        "    'IMAGE_PATH': os.path.join('Tensorflow', 'workspace','images'),\n",
        "    'MODEL_PATH': os.path.join('Tensorflow', 'workspace','models'),\n",
        "    'PRETRAINED_MODEL_PATH': os.path.join('Tensorflow', 'workspace','pre-trained-models'),\n",
        "    'CHECKPOINT_PATH': os.path.join('Tensorflow', 'workspace','models',CUSTOM_MODEL_NAME), \n",
        "    'OUTPUT_PATH': os.path.join('Tensorflow', 'workspace','models',CUSTOM_MODEL_NAME, 'export'), \n",
        "    'TFJS_PATH':os.path.join('Tensorflow', 'workspace','models',CUSTOM_MODEL_NAME, 'tfjsexport'), \n",
        "    'TFLITE_PATH':os.path.join('Tensorflow', 'workspace','models',CUSTOM_MODEL_NAME, 'tfliteexport'), \n",
        "    'PROTOC_PATH':os.path.join('Tensorflow','protoc')\n",
        " }"
      ],
      "metadata": {
        "id": "HlxbQbKNyRrL"
      },
      "execution_count": null,
      "outputs": []
    },
    {
      "cell_type": "code",
      "source": [
        "files = {\n",
        "    'PIPELINE_CONFIG':os.path.join('Tensorflow', 'workspace','models', CUSTOM_MODEL_NAME, 'pipeline.config'),\n",
        "    'TF_RECORD_SCRIPT': os.path.join(paths['SCRIPTS_PATH'], TF_RECORD_SCRIPT_NAME), \n",
        "    'LABELMAP': os.path.join(paths['ANNOTATION_PATH'], LABEL_MAP_NAME)\n",
        "}"
      ],
      "metadata": {
        "id": "QmLAMMWYyV40"
      },
      "execution_count": null,
      "outputs": []
    },
    {
      "cell_type": "markdown",
      "source": [
        "Create directories."
      ],
      "metadata": {
        "id": "sGHRyPN9zBH_"
      }
    },
    {
      "cell_type": "code",
      "source": [
        "for path in paths.values():\n",
        "    if not os.path.exists(path):\n",
        "        if os.name == 'posix':\n",
        "            !mkdir -p {path}\n",
        "        if os.name == 'nt':\n",
        "            !mkdir {path}"
      ],
      "metadata": {
        "id": "COovrTSuzEHe"
      },
      "execution_count": null,
      "outputs": []
    },
    {
      "cell_type": "markdown",
      "source": [
        "###Download model and install TFOD(Tensorflow object detection)"
      ],
      "metadata": {
        "id": "p7OyDkdnzeCW"
      }
    },
    {
      "cell_type": "markdown",
      "source": [
        "Install model."
      ],
      "metadata": {
        "id": "ZGlroI4Xz4MQ"
      }
    },
    {
      "cell_type": "code",
      "source": [
        "if not os.path.exists(os.path.join(paths['APIMODEL_PATH'], 'research', 'object_detection')):\n",
        "    !git clone https://github.com/tensorflow/models {paths['APIMODEL_PATH']}"
      ],
      "metadata": {
        "id": "7p-3DWvCz6X_"
      },
      "execution_count": null,
      "outputs": []
    },
    {
      "cell_type": "markdown",
      "source": [
        "install TFOD.\n",
        "\n",
        "`posix` is for linux based system eg ubuntu, Mac OS.\n",
        "> \n",
        "`nt` is windows."
      ],
      "metadata": {
        "id": "Ab7TAuSBz9jX"
      }
    },
    {
      "cell_type": "code",
      "source": [
        "if os.name=='posix':  \n",
        "    !apt-get install protobuf-compiler\n",
        "    !cd Tensorflow/models/research && protoc object_detection/protos/*.proto --python_out=. && cp object_detection/packages/tf2/setup.py . && python -m pip install . \n",
        "    \n",
        "if os.name=='nt':\n",
        "    url=\"https://github.com/protocolbuffers/protobuf/releases/download/v3.15.6/protoc-3.15.6-win64.zip\"\n",
        "    wget.download(url)\n",
        "    !move protoc-3.15.6-win64.zip {paths['PROTOC_PATH']}\n",
        "    !cd {paths['PROTOC_PATH']} && tar -xf protoc-3.15.6-win64.zip\n",
        "    os.environ['PATH'] += os.pathsep + os.path.abspath(os.path.join(paths['PROTOC_PATH'], 'bin'))   \n",
        "    !cd Tensorflow/models/research && protoc object_detection/protos/*.proto --python_out=. && copy object_detection\\\\packages\\\\tf2\\\\setup.py setup.py && python setup.py build && python setup.py install\n",
        "    !cd Tensorflow/models/research/slim && pip install -e ."
      ],
      "metadata": {
        "id": "E-iI_X_Q0ATF"
      },
      "execution_count": null,
      "outputs": []
    },
    {
      "cell_type": "markdown",
      "source": [
        "Install extra dependencies."
      ],
      "metadata": {
        "id": "P5KKRYOJ0g4F"
      }
    },
    {
      "cell_type": "code",
      "source": [
        "!pip install --upgrade opencv-contrib-python\n",
        "\n",
        "!pip uninstall opencv-python==4.1.2.30\n",
        "!pip install opencv-python==4.5.5.64\n",
        "\n",
        "!pip uninstall opencv-python-headless==4.1.2.30\n",
        "!pip install opencv-python-headless==4.5.5.64"
      ],
      "metadata": {
        "id": "6P_AdQWG1eyx"
      },
      "execution_count": null,
      "outputs": []
    },
    {
      "cell_type": "code",
      "source": [
        "!pip install dill==0.3.4 cloudpickle==1.2.0 requests==2.23.0 folium==0.2.1 imgaug==0.2.5"
      ],
      "metadata": {
        "id": "U8nzcvts0l1i"
      },
      "execution_count": null,
      "outputs": []
    },
    {
      "cell_type": "markdown",
      "source": [
        "Run Verification Script."
      ],
      "metadata": {
        "id": "n_hljrDB1y_E"
      }
    },
    {
      "cell_type": "code",
      "source": [
        "VERIFICATION_SCRIPT = os.path.join(paths['APIMODEL_PATH'], 'research', 'object_detection', 'builders', 'model_builder_tf2_test.py')\n",
        "# Verify Installation\n",
        "!python {VERIFICATION_SCRIPT}"
      ],
      "metadata": {
        "id": "CXdUNHJE15nL"
      },
      "execution_count": null,
      "outputs": []
    },
    {
      "cell_type": "markdown",
      "source": [
        "Install/Upgrade Tensorflow if necessary."
      ],
      "metadata": {
        "id": "u57uLnjE16WW"
      }
    },
    {
      "cell_type": "code",
      "source": [
        "!pip install tensorflow --upgrade"
      ],
      "metadata": {
        "id": "BX2458an2LE7"
      },
      "execution_count": null,
      "outputs": []
    },
    {
      "cell_type": "markdown",
      "source": [
        "Import the Object detection model for sanity check."
      ],
      "metadata": {
        "id": "POlpQfm22OnL"
      }
    },
    {
      "cell_type": "code",
      "source": [
        "import object_detection"
      ],
      "metadata": {
        "id": "E81z2JG42r5y"
      },
      "execution_count": null,
      "outputs": []
    },
    {
      "cell_type": "markdown",
      "source": [
        "Download Pretrained Model."
      ],
      "metadata": {
        "id": "vTgWdsky2u7s"
      }
    },
    {
      "cell_type": "code",
      "source": [
        "if os.name =='posix':\n",
        "    !wget {PRETRAINED_MODEL_URL}\n",
        "    !mv {PRETRAINED_MODEL_NAME+'.tar.gz'} {paths['PRETRAINED_MODEL_PATH']}\n",
        "    !cd {paths['PRETRAINED_MODEL_PATH']} && tar -zxvf {PRETRAINED_MODEL_NAME+'.tar.gz'}\n",
        "if os.name == 'nt':\n",
        "    wget.download(PRETRAINED_MODEL_URL)\n",
        "    !move {PRETRAINED_MODEL_NAME+'.tar.gz'} {paths['PRETRAINED_MODEL_PATH']}\n",
        "    !cd {paths['PRETRAINED_MODEL_PATH']} && tar -zxvf {PRETRAINED_MODEL_NAME+'.tar.gz'}"
      ],
      "metadata": {
        "id": "-XjEhxKd24Rs"
      },
      "execution_count": null,
      "outputs": []
    },
    {
      "cell_type": "markdown",
      "source": [
        "###Create Label Map."
      ],
      "metadata": {
        "id": "fG7gnXDJ26rZ"
      }
    },
    {
      "cell_type": "markdown",
      "source": [
        "Here you modify the values of the list `labels` according to the labels you want and have annotated your Dataset to detect."
      ],
      "metadata": {
        "id": "Fw7gSMXr3IVs"
      }
    },
    {
      "cell_type": "markdown",
      "source": [
        "For this particular OCR task, I am targeting two certain ROI's(Region of interest) on a document.\n",
        "\n",
        "> Therefore, I have them labeled as `chapter` and `title`.\n",
        "\n",
        "\n",
        "> please note that these labels are case sensitive. You should be consistent with Whatever label name you used in annotating your dataset.\n",
        "\n",
        " "
      ],
      "metadata": {
        "id": "iMRzMIsP48Xv"
      }
    },
    {
      "cell_type": "code",
      "source": [
        "# example:\n",
        "# labels = [{'name':'ThumbsUp', 'id':1}, {'name':'ThumbsDown', 'id':2}, {'name':'ThankYou', 'id':3}, {'name':'LiveLong', 'id':4}]\n",
        "\n",
        "labels = [{'name':'chapter', 'id':1}, {'name':'title', 'id':2}]\n",
        "\n",
        "\n",
        "with open(files['LABELMAP'], 'w') as f:\n",
        "    for label in labels:\n",
        "        f.write('item { \\n')\n",
        "        f.write('\\tname:\\'{}\\'\\n'.format(label['name']))\n",
        "        f.write('\\tid:{}\\n'.format(label['id']))\n",
        "        f.write('}\\n')"
      ],
      "metadata": {
        "id": "1KdfQ4di3DnB"
      },
      "execution_count": null,
      "outputs": []
    },
    {
      "cell_type": "markdown",
      "source": [
        "###Create TF Records"
      ],
      "metadata": {
        "id": "1cEiQljl6gPt"
      }
    },
    {
      "cell_type": "markdown",
      "source": [
        "I stored my dataset in google drive."
      ],
      "metadata": {
        "id": "Yc8EfBTK6k3G"
      }
    },
    {
      "cell_type": "code",
      "source": [
        "from google.colab import drive\n",
        "drive.mount('/content/drive')"
      ],
      "metadata": {
        "id": "BIEqrkaR6x3c"
      },
      "execution_count": null,
      "outputs": []
    },
    {
      "cell_type": "markdown",
      "source": [
        "\n",
        "\n",
        "> Note: My dataset has already been annotated and splitted into `train`-`test` dataset. After that I compressed the dataset, named it `archive.tar.gz` and sent it to my google drive.\n",
        "\n",
        "The code to compress your images is:\n",
        "\n",
        "> `tar -czf {ARCHIVE_PATH} {TRAIN_PATH} {TEST_PATH}`\n",
        "\n",
        "\n",
        "\n",
        "\n",
        "\n"
      ],
      "metadata": {
        "id": "oO2wpa_Z7vgT"
      }
    },
    {
      "cell_type": "code",
      "source": [
        "!cp '/content/drive/MyDrive/TFOD images/archive.tar.gz' {paths['IMAGE_PATH']}"
      ],
      "metadata": {
        "id": "x6eeoAkO_jMk"
      },
      "execution_count": null,
      "outputs": []
    },
    {
      "cell_type": "markdown",
      "source": [
        "Uncompress the file and move them to the images path"
      ],
      "metadata": {
        "id": "Fs23-EqsBB6x"
      }
    },
    {
      "cell_type": "code",
      "source": [
        "ARCHIVE_FILES = os.path.join(paths['IMAGE_PATH'], 'archive.tar.gz')\n",
        "if os.path.exists(ARCHIVE_FILES):\n",
        "  !tar -zxvf {ARCHIVE_FILES}\n",
        "  !mv '/content/test' '/content/train' {paths['IMAGE_PATH']}"
      ],
      "metadata": {
        "id": "gWa4gLvzBVE6"
      },
      "execution_count": null,
      "outputs": []
    },
    {
      "cell_type": "markdown",
      "source": [
        "Get the TR Record Script and create the TF Record"
      ],
      "metadata": {
        "id": "sH03pT8HBsjz"
      }
    },
    {
      "cell_type": "code",
      "source": [
        "if not os.path.exists(files['TF_RECORD_SCRIPT']):\n",
        "    !git clone https://github.com/nicknochnack/GenerateTFRecord {paths['SCRIPTS_PATH']}"
      ],
      "metadata": {
        "id": "-vt_y--ECMQ4"
      },
      "execution_count": null,
      "outputs": []
    },
    {
      "cell_type": "code",
      "source": [
        "!python {files['TF_RECORD_SCRIPT']} -x {os.path.join(paths['IMAGE_PATH'], 'train')} -l {files['LABELMAP']} -o {os.path.join(paths['ANNOTATION_PATH'], 'train.record')} \n",
        "!python {files['TF_RECORD_SCRIPT']} -x {os.path.join(paths['IMAGE_PATH'], 'test')} -l {files['LABELMAP']} -o {os.path.join(paths['ANNOTATION_PATH'], 'test.record')}\n"
      ],
      "metadata": {
        "id": "gtDi574TCabv"
      },
      "execution_count": null,
      "outputs": []
    }
  ]
}